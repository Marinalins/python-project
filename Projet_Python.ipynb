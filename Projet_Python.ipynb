{
 "cells": [
  {
   "cell_type": "markdown",
   "metadata": {
    "colab_type": "text",
    "id": "uvYv-GYHV9vf"
   },
   "source": [
    "# Import"
   ]
  },
  {
   "cell_type": "code",
   "execution_count": 1,
   "metadata": {
    "colab": {},
    "colab_type": "code",
    "id": "RzPEQrc0S11p"
   },
   "outputs": [],
   "source": [
    "import pandas as pd\n",
    "import numpy as np"
   ]
  },
  {
   "cell_type": "code",
   "execution_count": 2,
   "metadata": {
    "colab": {},
    "colab_type": "code",
    "id": "bl1C2VkYwpNk"
   },
   "outputs": [],
   "source": [
    "import datetime\n",
    "from datetime import timedelta"
   ]
  },
  {
   "cell_type": "markdown",
   "metadata": {
    "colab_type": "text",
    "id": "hzZgV8tRWKL9"
   },
   "source": [
    "## Import données"
   ]
  },
  {
   "cell_type": "code",
   "execution_count": 3,
   "metadata": {
    "colab": {
     "base_uri": "https://localhost:8080/",
     "height": 785
    },
    "colab_type": "code",
    "id": "5NCyBRZ9WJlZ",
    "outputId": "79a8c5f3-d028-41c7-9d9a-173e22a190e9"
   },
   "outputs": [
    {
     "name": "stdout",
     "output_type": "stream",
     "text": [
      "<class 'pandas.core.frame.DataFrame'>\n",
      "RangeIndex: 141712 entries, 0 to 141711\n",
      "Data columns (total 36 columns):\n",
      "number                     141712 non-null object\n",
      "incident_state             141712 non-null object\n",
      "active                     141712 non-null bool\n",
      "reassignment_count         141712 non-null int64\n",
      "reopen_count               141712 non-null int64\n",
      "sys_mod_count              141712 non-null int64\n",
      "made_sla                   141712 non-null bool\n",
      "caller_id                  141712 non-null object\n",
      "opened_by                  141712 non-null object\n",
      "opened_at                  141712 non-null object\n",
      "sys_created_by             141712 non-null object\n",
      "sys_created_at             141712 non-null object\n",
      "sys_updated_by             141712 non-null object\n",
      "sys_updated_at             141712 non-null object\n",
      "contact_type               141712 non-null object\n",
      "location                   141712 non-null object\n",
      "category                   141712 non-null object\n",
      "subcategory                141712 non-null object\n",
      "u_symptom                  141712 non-null object\n",
      "cmdb_ci                    141712 non-null object\n",
      "impact                     141712 non-null object\n",
      "urgency                    141712 non-null object\n",
      "priority                   141712 non-null object\n",
      "assignment_group           141712 non-null object\n",
      "assigned_to                141712 non-null object\n",
      "knowledge                  141712 non-null bool\n",
      "u_priority_confirmation    141712 non-null bool\n",
      "notify                     141712 non-null object\n",
      "problem_id                 141712 non-null object\n",
      "rfc                        141712 non-null object\n",
      "vendor                     141712 non-null object\n",
      "caused_by                  141712 non-null object\n",
      "closed_code                141712 non-null object\n",
      "resolved_by                141712 non-null object\n",
      "resolved_at                141712 non-null object\n",
      "closed_at                  141712 non-null object\n",
      "dtypes: bool(4), int64(3), object(29)\n",
      "memory usage: 35.1+ MB\n"
     ]
    }
   ],
   "source": [
    "incidents = pd.read_csv(\"incident_event_log.csv\", sep=\",\")\n",
    "\n",
    "incidents.info()"
   ]
  },
  {
   "cell_type": "code",
   "execution_count": 4,
   "metadata": {
    "colab": {
     "base_uri": "https://localhost:8080/",
     "height": 313
    },
    "colab_type": "code",
    "id": "bCFqvUwzWd8d",
    "outputId": "1422aa54-2a40-4a51-dd80-c0b492cce67c"
   },
   "outputs": [
    {
     "data": {
      "text/html": [
       "<div>\n",
       "<style scoped>\n",
       "    .dataframe tbody tr th:only-of-type {\n",
       "        vertical-align: middle;\n",
       "    }\n",
       "\n",
       "    .dataframe tbody tr th {\n",
       "        vertical-align: top;\n",
       "    }\n",
       "\n",
       "    .dataframe thead th {\n",
       "        text-align: right;\n",
       "    }\n",
       "</style>\n",
       "<table border=\"1\" class=\"dataframe\">\n",
       "  <thead>\n",
       "    <tr style=\"text-align: right;\">\n",
       "      <th></th>\n",
       "      <th>number</th>\n",
       "      <th>incident_state</th>\n",
       "      <th>active</th>\n",
       "      <th>reassignment_count</th>\n",
       "      <th>reopen_count</th>\n",
       "      <th>sys_mod_count</th>\n",
       "      <th>made_sla</th>\n",
       "      <th>caller_id</th>\n",
       "      <th>opened_by</th>\n",
       "      <th>opened_at</th>\n",
       "      <th>...</th>\n",
       "      <th>u_priority_confirmation</th>\n",
       "      <th>notify</th>\n",
       "      <th>problem_id</th>\n",
       "      <th>rfc</th>\n",
       "      <th>vendor</th>\n",
       "      <th>caused_by</th>\n",
       "      <th>closed_code</th>\n",
       "      <th>resolved_by</th>\n",
       "      <th>resolved_at</th>\n",
       "      <th>closed_at</th>\n",
       "    </tr>\n",
       "  </thead>\n",
       "  <tbody>\n",
       "    <tr>\n",
       "      <th>0</th>\n",
       "      <td>INC0000045</td>\n",
       "      <td>New</td>\n",
       "      <td>True</td>\n",
       "      <td>0</td>\n",
       "      <td>0</td>\n",
       "      <td>0</td>\n",
       "      <td>True</td>\n",
       "      <td>Caller 2403</td>\n",
       "      <td>Opened by  8</td>\n",
       "      <td>29/2/2016 01:16</td>\n",
       "      <td>...</td>\n",
       "      <td>False</td>\n",
       "      <td>Do Not Notify</td>\n",
       "      <td>?</td>\n",
       "      <td>?</td>\n",
       "      <td>?</td>\n",
       "      <td>?</td>\n",
       "      <td>code 5</td>\n",
       "      <td>Resolved by 149</td>\n",
       "      <td>29/2/2016 11:29</td>\n",
       "      <td>5/3/2016 12:00</td>\n",
       "    </tr>\n",
       "    <tr>\n",
       "      <th>1</th>\n",
       "      <td>INC0000045</td>\n",
       "      <td>Resolved</td>\n",
       "      <td>True</td>\n",
       "      <td>0</td>\n",
       "      <td>0</td>\n",
       "      <td>2</td>\n",
       "      <td>True</td>\n",
       "      <td>Caller 2403</td>\n",
       "      <td>Opened by  8</td>\n",
       "      <td>29/2/2016 01:16</td>\n",
       "      <td>...</td>\n",
       "      <td>False</td>\n",
       "      <td>Do Not Notify</td>\n",
       "      <td>?</td>\n",
       "      <td>?</td>\n",
       "      <td>?</td>\n",
       "      <td>?</td>\n",
       "      <td>code 5</td>\n",
       "      <td>Resolved by 149</td>\n",
       "      <td>29/2/2016 11:29</td>\n",
       "      <td>5/3/2016 12:00</td>\n",
       "    </tr>\n",
       "    <tr>\n",
       "      <th>2</th>\n",
       "      <td>INC0000045</td>\n",
       "      <td>Resolved</td>\n",
       "      <td>True</td>\n",
       "      <td>0</td>\n",
       "      <td>0</td>\n",
       "      <td>3</td>\n",
       "      <td>True</td>\n",
       "      <td>Caller 2403</td>\n",
       "      <td>Opened by  8</td>\n",
       "      <td>29/2/2016 01:16</td>\n",
       "      <td>...</td>\n",
       "      <td>False</td>\n",
       "      <td>Do Not Notify</td>\n",
       "      <td>?</td>\n",
       "      <td>?</td>\n",
       "      <td>?</td>\n",
       "      <td>?</td>\n",
       "      <td>code 5</td>\n",
       "      <td>Resolved by 149</td>\n",
       "      <td>29/2/2016 11:29</td>\n",
       "      <td>5/3/2016 12:00</td>\n",
       "    </tr>\n",
       "    <tr>\n",
       "      <th>3</th>\n",
       "      <td>INC0000045</td>\n",
       "      <td>Closed</td>\n",
       "      <td>False</td>\n",
       "      <td>0</td>\n",
       "      <td>0</td>\n",
       "      <td>4</td>\n",
       "      <td>True</td>\n",
       "      <td>Caller 2403</td>\n",
       "      <td>Opened by  8</td>\n",
       "      <td>29/2/2016 01:16</td>\n",
       "      <td>...</td>\n",
       "      <td>False</td>\n",
       "      <td>Do Not Notify</td>\n",
       "      <td>?</td>\n",
       "      <td>?</td>\n",
       "      <td>?</td>\n",
       "      <td>?</td>\n",
       "      <td>code 5</td>\n",
       "      <td>Resolved by 149</td>\n",
       "      <td>29/2/2016 11:29</td>\n",
       "      <td>5/3/2016 12:00</td>\n",
       "    </tr>\n",
       "    <tr>\n",
       "      <th>4</th>\n",
       "      <td>INC0000047</td>\n",
       "      <td>New</td>\n",
       "      <td>True</td>\n",
       "      <td>0</td>\n",
       "      <td>0</td>\n",
       "      <td>0</td>\n",
       "      <td>True</td>\n",
       "      <td>Caller 2403</td>\n",
       "      <td>Opened by  397</td>\n",
       "      <td>29/2/2016 04:40</td>\n",
       "      <td>...</td>\n",
       "      <td>False</td>\n",
       "      <td>Do Not Notify</td>\n",
       "      <td>?</td>\n",
       "      <td>?</td>\n",
       "      <td>?</td>\n",
       "      <td>?</td>\n",
       "      <td>code 5</td>\n",
       "      <td>Resolved by 81</td>\n",
       "      <td>1/3/2016 09:52</td>\n",
       "      <td>6/3/2016 10:00</td>\n",
       "    </tr>\n",
       "  </tbody>\n",
       "</table>\n",
       "<p>5 rows × 36 columns</p>\n",
       "</div>"
      ],
      "text/plain": [
       "       number incident_state  active  reassignment_count  reopen_count  \\\n",
       "0  INC0000045            New    True                   0             0   \n",
       "1  INC0000045       Resolved    True                   0             0   \n",
       "2  INC0000045       Resolved    True                   0             0   \n",
       "3  INC0000045         Closed   False                   0             0   \n",
       "4  INC0000047            New    True                   0             0   \n",
       "\n",
       "   sys_mod_count  made_sla    caller_id       opened_by        opened_at  ...  \\\n",
       "0              0      True  Caller 2403    Opened by  8  29/2/2016 01:16  ...   \n",
       "1              2      True  Caller 2403    Opened by  8  29/2/2016 01:16  ...   \n",
       "2              3      True  Caller 2403    Opened by  8  29/2/2016 01:16  ...   \n",
       "3              4      True  Caller 2403    Opened by  8  29/2/2016 01:16  ...   \n",
       "4              0      True  Caller 2403  Opened by  397  29/2/2016 04:40  ...   \n",
       "\n",
       "  u_priority_confirmation         notify problem_id rfc vendor caused_by  \\\n",
       "0                   False  Do Not Notify          ?   ?      ?         ?   \n",
       "1                   False  Do Not Notify          ?   ?      ?         ?   \n",
       "2                   False  Do Not Notify          ?   ?      ?         ?   \n",
       "3                   False  Do Not Notify          ?   ?      ?         ?   \n",
       "4                   False  Do Not Notify          ?   ?      ?         ?   \n",
       "\n",
       "  closed_code      resolved_by      resolved_at       closed_at  \n",
       "0      code 5  Resolved by 149  29/2/2016 11:29  5/3/2016 12:00  \n",
       "1      code 5  Resolved by 149  29/2/2016 11:29  5/3/2016 12:00  \n",
       "2      code 5  Resolved by 149  29/2/2016 11:29  5/3/2016 12:00  \n",
       "3      code 5  Resolved by 149  29/2/2016 11:29  5/3/2016 12:00  \n",
       "4      code 5   Resolved by 81   1/3/2016 09:52  6/3/2016 10:00  \n",
       "\n",
       "[5 rows x 36 columns]"
      ]
     },
     "execution_count": 4,
     "metadata": {},
     "output_type": "execute_result"
    }
   ],
   "source": [
    "incidents.head()"
   ]
  },
  {
   "cell_type": "markdown",
   "metadata": {},
   "source": [
    "# Visualisation des données"
   ]
  },
  {
   "cell_type": "code",
   "execution_count": 5,
   "metadata": {
    "scrolled": true
   },
   "outputs": [
    {
     "data": {
      "text/plain": [
       "Active                38716\n",
       "New                   36407\n",
       "Resolved              25751\n",
       "Closed                24985\n",
       "Awaiting User Info    14642\n",
       "Awaiting Vendor         707\n",
       "Awaiting Problem        461\n",
       "Awaiting Evidence        38\n",
       "-100                      5\n",
       "Name: incident_state, dtype: int64"
      ]
     },
     "execution_count": 5,
     "metadata": {},
     "output_type": "execute_result"
    }
   ],
   "source": [
    "incidents['incident_state'].value_counts()"
   ]
  },
  {
   "cell_type": "code",
   "execution_count": 6,
   "metadata": {
    "scrolled": false
   },
   "outputs": [
    {
     "data": {
      "image/png": "[encoded data removed]",
      "text/plain": [
       "<Figure size 432x288 with 1 Axes>"
      ]
     },
     "metadata": {
      "needs_background": "light"
     },
     "output_type": "display_data"
    }
   ],
   "source": [
    "import matplotlib.pyplot as plt\n",
    "%matplotlib inline\n",
    "\n",
    "plt.bar(incidents['incident_state'].value_counts().index, incidents['incident_state'].value_counts())\n",
    "plt.show()"
   ]
  },
  {
   "cell_type": "code",
   "execution_count": 7,
   "metadata": {
    "scrolled": false
   },
   "outputs": [
    {
     "data": {
      "image/png": "[encoded data removed]",
      "text/plain": [
       "<Figure size 432x288 with 1 Axes>"
      ]
     },
     "metadata": {
      "needs_background": "light"
     },
     "output_type": "display_data"
    }
   ],
   "source": [
    "plt.bar(incidents['contact_type'].value_counts().index, incidents['contact_type'].value_counts())\n",
    "plt.show()"
   ]
  },
  {
   "cell_type": "code",
   "execution_count": 8,
   "metadata": {
    "scrolled": false
   },
   "outputs": [
    {
     "data": {
      "image/png": "[encoded data removed]",
      "text/plain": [
       "<Figure size 432x288 with 1 Axes>"
      ]
     },
     "metadata": {
      "needs_background": "light"
     },
     "output_type": "display_data"
    }
   ],
   "source": [
    "import matplotlib.pyplot as plt\n",
    "%matplotlib inline\n",
    "\n",
    "plt.bar(incidents['priority'].value_counts().index, incidents['priority'].value_counts())\n",
    "plt.show()"
   ]
  },
  {
   "cell_type": "markdown",
   "metadata": {
    "colab_type": "text",
    "id": "XRlg-cTiS3bO"
   },
   "source": [
    "# Data processing"
   ]
  },
  {
   "cell_type": "markdown",
   "metadata": {
    "colab_type": "text",
    "id": "nxYVDFAwpVwc"
   },
   "source": [
    "## Création du dataframe avec les colonnes retenues"
   ]
  },
  {
   "cell_type": "markdown",
   "metadata": {
    "colab_type": "text",
    "id": "lTkXWGMGidKi"
   },
   "source": [
    "Après une première analyse des données du dataset, j'ai relevé celles qui pourraient permettre de prédire le temps de résolution d'un incident :\n",
    "\n",
    "\n",
    "1. **incident state:** eight levels controlling the incident management process transitions from opening until closing the case;\n",
    "2. **reassignment_count:** number of times the incident has the group or the support analysts changed;\n",
    "3. **reopen_count:** number of times the incident resolution was rejected by the caller;\n",
    "4. **sys_mod_count:** number of incident updates until that moment;\n",
    "5. **made_sla:** boolean attribute that shows whether the incident exceeded the target SLA;\n",
    "6. **sys_updated_at:** incident system update date and time; \n",
    "7. **contact_type:** categorical attribute that shows by what means the incident was reported;\n",
    "8. **category:** first-level description of the affected service;\n",
    "9. **subcategory:** second-level description of the affected service (related to the first level description, i.e., to category);\n",
    "10. **u_symptom:** description of the user perception about service availability;\n",
    "11. **impact:** description of the impact caused by the incident (values: 1-High; 2-Medium; 3-Low);\n",
    "12. **urgency:** description of the urgency informed by the user for the incident resolution (values: 1-High; 2-Medium; 3-Low);\n",
    "13. **priority:** calculated by the system based on 'impact' and 'urgency';\n",
    "14. **knowledge:** boolean attribute that shows whether a knowledge base document was used to resolve the incident;\n",
    "15. **u_priority_confirmation:** boolean attribute that shows whether the priority field has been double-checked;\n",
    "16. **notify:** categorical attribute that shows whether notifications were generated for the incident;\n",
    "17. **closed_at:** incident user close date and time (dependent variable).\n",
    "\n",
    "\n",
    "\n"
   ]
  },
  {
   "cell_type": "code",
   "execution_count": 9,
   "metadata": {
    "colab": {
     "base_uri": "https://localhost:8080/",
     "height": 313
    },
    "colab_type": "code",
    "id": "Fd-ycV7Lrxxj",
    "outputId": "9ec11a53-dbe9-40c9-fde0-bb9f933632da"
   },
   "outputs": [
    {
     "data": {
      "text/html": [
       "<div>\n",
       "<style scoped>\n",
       "    .dataframe tbody tr th:only-of-type {\n",
       "        vertical-align: middle;\n",
       "    }\n",
       "\n",
       "    .dataframe tbody tr th {\n",
       "        vertical-align: top;\n",
       "    }\n",
       "\n",
       "    .dataframe thead th {\n",
       "        text-align: right;\n",
       "    }\n",
       "</style>\n",
       "<table border=\"1\" class=\"dataframe\">\n",
       "  <thead>\n",
       "    <tr style=\"text-align: right;\">\n",
       "      <th></th>\n",
       "      <th>incident_state</th>\n",
       "      <th>reassignment_count</th>\n",
       "      <th>reopen_count</th>\n",
       "      <th>sys_mod_count</th>\n",
       "      <th>made_sla</th>\n",
       "      <th>sys_updated_at</th>\n",
       "      <th>contact_type</th>\n",
       "      <th>category</th>\n",
       "      <th>subcategory</th>\n",
       "      <th>u_symptom</th>\n",
       "      <th>impact</th>\n",
       "      <th>urgency</th>\n",
       "      <th>priority</th>\n",
       "      <th>knowledge</th>\n",
       "      <th>u_priority_confirmation</th>\n",
       "      <th>notify</th>\n",
       "      <th>closed_at</th>\n",
       "    </tr>\n",
       "  </thead>\n",
       "  <tbody>\n",
       "    <tr>\n",
       "      <th>0</th>\n",
       "      <td>New</td>\n",
       "      <td>0</td>\n",
       "      <td>0</td>\n",
       "      <td>0</td>\n",
       "      <td>True</td>\n",
       "      <td>29/2/2016 01:23</td>\n",
       "      <td>Phone</td>\n",
       "      <td>Category 55</td>\n",
       "      <td>Subcategory 170</td>\n",
       "      <td>Symptom 72</td>\n",
       "      <td>2 - Medium</td>\n",
       "      <td>2 - Medium</td>\n",
       "      <td>3 - Moderate</td>\n",
       "      <td>True</td>\n",
       "      <td>False</td>\n",
       "      <td>Do Not Notify</td>\n",
       "      <td>5/3/2016 12:00</td>\n",
       "    </tr>\n",
       "    <tr>\n",
       "      <th>1</th>\n",
       "      <td>Resolved</td>\n",
       "      <td>0</td>\n",
       "      <td>0</td>\n",
       "      <td>2</td>\n",
       "      <td>True</td>\n",
       "      <td>29/2/2016 08:53</td>\n",
       "      <td>Phone</td>\n",
       "      <td>Category 55</td>\n",
       "      <td>Subcategory 170</td>\n",
       "      <td>Symptom 72</td>\n",
       "      <td>2 - Medium</td>\n",
       "      <td>2 - Medium</td>\n",
       "      <td>3 - Moderate</td>\n",
       "      <td>True</td>\n",
       "      <td>False</td>\n",
       "      <td>Do Not Notify</td>\n",
       "      <td>5/3/2016 12:00</td>\n",
       "    </tr>\n",
       "    <tr>\n",
       "      <th>2</th>\n",
       "      <td>Resolved</td>\n",
       "      <td>0</td>\n",
       "      <td>0</td>\n",
       "      <td>3</td>\n",
       "      <td>True</td>\n",
       "      <td>29/2/2016 11:29</td>\n",
       "      <td>Phone</td>\n",
       "      <td>Category 55</td>\n",
       "      <td>Subcategory 170</td>\n",
       "      <td>Symptom 72</td>\n",
       "      <td>2 - Medium</td>\n",
       "      <td>2 - Medium</td>\n",
       "      <td>3 - Moderate</td>\n",
       "      <td>True</td>\n",
       "      <td>False</td>\n",
       "      <td>Do Not Notify</td>\n",
       "      <td>5/3/2016 12:00</td>\n",
       "    </tr>\n",
       "    <tr>\n",
       "      <th>3</th>\n",
       "      <td>Closed</td>\n",
       "      <td>0</td>\n",
       "      <td>0</td>\n",
       "      <td>4</td>\n",
       "      <td>True</td>\n",
       "      <td>5/3/2016 12:00</td>\n",
       "      <td>Phone</td>\n",
       "      <td>Category 55</td>\n",
       "      <td>Subcategory 170</td>\n",
       "      <td>Symptom 72</td>\n",
       "      <td>2 - Medium</td>\n",
       "      <td>2 - Medium</td>\n",
       "      <td>3 - Moderate</td>\n",
       "      <td>True</td>\n",
       "      <td>False</td>\n",
       "      <td>Do Not Notify</td>\n",
       "      <td>5/3/2016 12:00</td>\n",
       "    </tr>\n",
       "    <tr>\n",
       "      <th>4</th>\n",
       "      <td>New</td>\n",
       "      <td>0</td>\n",
       "      <td>0</td>\n",
       "      <td>0</td>\n",
       "      <td>True</td>\n",
       "      <td>29/2/2016 04:57</td>\n",
       "      <td>Phone</td>\n",
       "      <td>Category 40</td>\n",
       "      <td>Subcategory 215</td>\n",
       "      <td>Symptom 471</td>\n",
       "      <td>2 - Medium</td>\n",
       "      <td>2 - Medium</td>\n",
       "      <td>3 - Moderate</td>\n",
       "      <td>True</td>\n",
       "      <td>False</td>\n",
       "      <td>Do Not Notify</td>\n",
       "      <td>6/3/2016 10:00</td>\n",
       "    </tr>\n",
       "  </tbody>\n",
       "</table>\n",
       "</div>"
      ],
      "text/plain": [
       "  incident_state  reassignment_count  reopen_count  sys_mod_count  made_sla  \\\n",
       "0            New                   0             0              0      True   \n",
       "1       Resolved                   0             0              2      True   \n",
       "2       Resolved                   0             0              3      True   \n",
       "3         Closed                   0             0              4      True   \n",
       "4            New                   0             0              0      True   \n",
       "\n",
       "    sys_updated_at contact_type     category      subcategory    u_symptom  \\\n",
       "0  29/2/2016 01:23        Phone  Category 55  Subcategory 170   Symptom 72   \n",
       "1  29/2/2016 08:53        Phone  Category 55  Subcategory 170   Symptom 72   \n",
       "2  29/2/2016 11:29        Phone  Category 55  Subcategory 170   Symptom 72   \n",
       "3   5/3/2016 12:00        Phone  Category 55  Subcategory 170   Symptom 72   \n",
       "4  29/2/2016 04:57        Phone  Category 40  Subcategory 215  Symptom 471   \n",
       "\n",
       "       impact     urgency      priority  knowledge  u_priority_confirmation  \\\n",
       "0  2 - Medium  2 - Medium  3 - Moderate       True                    False   \n",
       "1  2 - Medium  2 - Medium  3 - Moderate       True                    False   \n",
       "2  2 - Medium  2 - Medium  3 - Moderate       True                    False   \n",
       "3  2 - Medium  2 - Medium  3 - Moderate       True                    False   \n",
       "4  2 - Medium  2 - Medium  3 - Moderate       True                    False   \n",
       "\n",
       "          notify       closed_at  \n",
       "0  Do Not Notify  5/3/2016 12:00  \n",
       "1  Do Not Notify  5/3/2016 12:00  \n",
       "2  Do Not Notify  5/3/2016 12:00  \n",
       "3  Do Not Notify  5/3/2016 12:00  \n",
       "4  Do Not Notify  6/3/2016 10:00  "
      ]
     },
     "execution_count": 9,
     "metadata": {},
     "output_type": "execute_result"
    }
   ],
   "source": [
    "datas = incidents.loc[:, ['incident_state','reassignment_count','reopen_count','sys_mod_count',\\\n",
    "                          'made_sla','sys_updated_at','contact_type','category',\\\n",
    "                          'subcategory','u_symptom','impact','urgency','priority','knowledge','u_priority_confirmation',\\\n",
    "                          'notify','closed_at']]\n",
    "datas.head()"
   ]
  },
  {
   "cell_type": "code",
   "execution_count": 10,
   "metadata": {
    "colab": {
     "base_uri": "https://localhost:8080/",
     "height": 429
    },
    "colab_type": "code",
    "id": "7eEpkewCbasf",
    "outputId": "6156ca13-b9d4-46e8-8559-e38a84129d1e"
   },
   "outputs": [
    {
     "name": "stdout",
     "output_type": "stream",
     "text": [
      "<class 'pandas.core.frame.DataFrame'>\n",
      "RangeIndex: 141712 entries, 0 to 141711\n",
      "Data columns (total 17 columns):\n",
      "incident_state             141712 non-null object\n",
      "reassignment_count         141712 non-null int64\n",
      "reopen_count               141712 non-null int64\n",
      "sys_mod_count              141712 non-null int64\n",
      "made_sla                   141712 non-null bool\n",
      "sys_updated_at             141712 non-null object\n",
      "contact_type               141712 non-null object\n",
      "category                   141712 non-null object\n",
      "subcategory                141712 non-null object\n",
      "u_symptom                  141712 non-null object\n",
      "impact                     141712 non-null object\n",
      "urgency                    141712 non-null object\n",
      "priority                   141712 non-null object\n",
      "knowledge                  141712 non-null bool\n",
      "u_priority_confirmation    141712 non-null bool\n",
      "notify                     141712 non-null object\n",
      "closed_at                  141712 non-null object\n",
      "dtypes: bool(3), int64(3), object(11)\n",
      "memory usage: 15.5+ MB\n"
     ]
    }
   ],
   "source": [
    "datas.info()"
   ]
  },
  {
   "cell_type": "markdown",
   "metadata": {
    "colab_type": "text",
    "id": "3oRdjW9v3WCp"
   },
   "source": [
    "## Ajout de colonnes"
   ]
  },
  {
   "cell_type": "markdown",
   "metadata": {
    "colab_type": "text",
    "id": "De51lDnJ3b60"
   },
   "source": [
    "### Remaining time"
   ]
  },
  {
   "cell_type": "code",
   "execution_count": 11,
   "metadata": {
    "colab": {},
    "colab_type": "code",
    "id": "acKW-zQj3bGl"
   },
   "outputs": [],
   "source": [
    "# Ajout de la colonne \"remaining_time\" qui correspond au temps restant avant résolution de l'incident\n",
    "# (en heures)\n",
    "datetimeFormat = '%d/%m/%Y %H:%M'\n",
    "datas['remaining_time'] = datas.apply(lambda row: (datetime.datetime.strptime(row.closed_at, datetimeFormat)\\\n",
    "    - datetime.datetime.strptime(row.sys_updated_at, datetimeFormat)).total_seconds()/3600, axis=1)\n",
    "\n",
    "# Supression de la colonne \"closed_at\"\n",
    "# (plus d'utilité après le calcul de \"remaining_time\")\n",
    "del datas['closed_at']"
   ]
  },
  {
   "cell_type": "markdown",
   "metadata": {
    "colab_type": "text",
    "id": "tpWMdZFHSi15"
   },
   "source": [
    "## Transformation des données catégoriques"
   ]
  },
  {
   "cell_type": "code",
   "execution_count": 12,
   "metadata": {
    "colab": {
     "base_uri": "https://localhost:8080/",
     "height": 298
    },
    "colab_type": "code",
    "id": "vGatbT3yQOaB",
    "outputId": "ba8c03d3-4ba7-489e-ecf2-5db54b49cfaa"
   },
   "outputs": [
    {
     "name": "stdout",
     "output_type": "stream",
     "text": [
      "<class 'pandas.core.frame.DataFrame'>\n",
      "RangeIndex: 141712 entries, 0 to 141711\n",
      "Data columns (total 10 columns):\n",
      "incident_state    141712 non-null object\n",
      "sys_updated_at    141712 non-null object\n",
      "contact_type      141712 non-null object\n",
      "category          141712 non-null object\n",
      "subcategory       141712 non-null object\n",
      "u_symptom         141712 non-null object\n",
      "impact            141712 non-null object\n",
      "urgency           141712 non-null object\n",
      "priority          141712 non-null object\n",
      "notify            141712 non-null object\n",
      "dtypes: object(10)\n",
      "memory usage: 10.8+ MB\n"
     ]
    }
   ],
   "source": [
    "# uniquement les données de type 'object'\n",
    "datas.select_dtypes(include=['object']).info()"
   ]
  },
  {
   "cell_type": "markdown",
   "metadata": {
    "colab_type": "text",
    "id": "GMTEvx6yYoyy"
   },
   "source": [
    "### Incident state"
   ]
  },
  {
   "cell_type": "code",
   "execution_count": 13,
   "metadata": {
    "colab": {
     "base_uri": "https://localhost:8080/",
     "height": 204
    },
    "colab_type": "code",
    "id": "0yhtUgZSInNq",
    "outputId": "4ba4bae6-2eac-4922-c7a7-b2a2bc8f39ba"
   },
   "outputs": [
    {
     "data": {
      "text/plain": [
       "Active                38716\n",
       "New                   36407\n",
       "Resolved              25751\n",
       "Closed                24985\n",
       "Awaiting User Info    14642\n",
       "Awaiting Vendor         707\n",
       "Awaiting Problem        461\n",
       "Awaiting Evidence        38\n",
       "-100                      5\n",
       "Name: incident_state, dtype: int64"
      ]
     },
     "execution_count": 13,
     "metadata": {},
     "output_type": "execute_result"
    }
   ],
   "source": [
    "datas['incident_state'].value_counts()\n",
    "# Il existe 8 différents \"incident_state\" + 1 state non-identifié (-100)"
   ]
  },
  {
   "cell_type": "code",
   "execution_count": 14,
   "metadata": {},
   "outputs": [],
   "source": [
    "# On remplace les status \"-100\" par \"Unknown\"\n",
    "datas.loc[datas.incident_state == '-100', 'incident_state'] = \"Unknown\"\n",
    "\n",
    "# On remplace les status \" \" par \"_\"\n",
    "datas['incident_state'] = datas.apply(lambda row: row.incident_state.replace(\" \", \"_\"),axis=1)"
   ]
  },
  {
   "cell_type": "code",
   "execution_count": 15,
   "metadata": {
    "colab": {},
    "colab_type": "code",
    "id": "pzHtxBI6InN8"
   },
   "outputs": [],
   "source": [
    "# On crée autant de nouvelles colonnes qu'il y a de \"incident_state\"\n",
    "datas = pd.get_dummies(datas, columns=['incident_state'], prefix = ['state'])"
   ]
  },
  {
   "cell_type": "markdown",
   "metadata": {
    "colab_type": "text",
    "id": "oPp_mz1XIN0Z"
   },
   "source": [
    "### Sys Updated at"
   ]
  },
  {
   "cell_type": "code",
   "execution_count": 16,
   "metadata": {
    "colab": {},
    "colab_type": "code",
    "id": "4UbZ_TkPIRsB"
   },
   "outputs": [],
   "source": [
    "datas['sys_updated_at'] = datas['sys_updated_at'].astype('datetime64')  # change dtype en \"datetime64\"\n",
    "\n",
    "# On ajoute les colonnes indiquant la date de l'update\n",
    "datas['update_month'] = datas['sys_updated_at'].dt.month\n",
    "datas['update_day'] = datas['sys_updated_at'].dt.day\n",
    "datas['update_hour'] = datas['sys_updated_at'].dt.hour\n",
    "datas['update_weekday'] = datas['sys_updated_at'].dt.weekday\n",
    "\n",
    "# Supression de la colonne \"sys_updated_at\"\n",
    "del datas['sys_updated_at']\n",
    "\n",
    "# On crée autant de nouvelles colonnes qu'il y a de \"weekday\"\n",
    "datas = pd.get_dummies(datas, columns=['update_weekday'], prefix = ['update_weekday'])"
   ]
  },
  {
   "cell_type": "markdown",
   "metadata": {
    "colab_type": "text",
    "id": "KG4FwbMtVtD4"
   },
   "source": [
    "### Contact type"
   ]
  },
  {
   "cell_type": "code",
   "execution_count": 17,
   "metadata": {
    "colab": {
     "base_uri": "https://localhost:8080/",
     "height": 129
    },
    "colab_type": "code",
    "id": "reYrplTJSX1I",
    "outputId": "d1d92b98-8fe3-49d1-8053-c7cc6bbff1aa"
   },
   "outputs": [
    {
     "data": {
      "text/plain": [
       "Phone             140462\n",
       "Self service         995\n",
       "Email                220\n",
       "IVR                   18\n",
       "Direct opening        17\n",
       "Name: contact_type, dtype: int64"
      ]
     },
     "execution_count": 17,
     "metadata": {},
     "output_type": "execute_result"
    }
   ],
   "source": [
    "# Il y a 5 types de contacts\n",
    "datas['contact_type'].value_counts()"
   ]
  },
  {
   "cell_type": "code",
   "execution_count": 18,
   "metadata": {
    "colab": {},
    "colab_type": "code",
    "id": "1sWBHHdjhjvU"
   },
   "outputs": [],
   "source": [
    "# On crée autant de nouvelles colonnes qu'il y a de types de contact\n",
    "# Le type de contact sera alors précisé par un 1 (0 dans le cas contraire)\n",
    "datas = pd.get_dummies(datas, columns=['contact_type'], prefix = ['contact'])"
   ]
  },
  {
   "cell_type": "markdown",
   "metadata": {
    "colab_type": "text",
    "id": "n4H2CxUdYPmz"
   },
   "source": [
    "### Category / Subcategory / Symptom"
   ]
  },
  {
   "cell_type": "code",
   "execution_count": 19,
   "metadata": {
    "colab": {},
    "colab_type": "code",
    "id": "Z3pB-KVYYVso"
   },
   "outputs": [],
   "source": [
    "# Pour ces trois colonnes, on ne gardera que leur numéro"
   ]
  },
  {
   "cell_type": "markdown",
   "metadata": {
    "colab_type": "text",
    "id": "hYEAcMOnzwJw"
   },
   "source": [
    "**Pour la colonne \"category\"**"
   ]
  },
  {
   "cell_type": "code",
   "execution_count": 20,
   "metadata": {},
   "outputs": [],
   "source": [
    "# On remplace les status \"?\" par \"-1\"\n",
    "datas.loc[datas.category == '?', 'category'] = \"-1\"\n",
    "\n",
    "# On garde uniquement le numéro de la categorie\n",
    "datas['category'] = datas.apply(lambda row: int(row.category.replace(\"Category \",\"\")), axis=1)"
   ]
  },
  {
   "cell_type": "markdown",
   "metadata": {
    "colab_type": "text",
    "id": "iZvmMR6fz26b"
   },
   "source": [
    "**Pour la colonne \"subcategory\"**"
   ]
  },
  {
   "cell_type": "code",
   "execution_count": 21,
   "metadata": {
    "colab": {
     "base_uri": "https://localhost:8080/",
     "height": 111
    },
    "colab_type": "code",
    "id": "Y4ZWmBQNxUmT",
    "outputId": "80caf40a-d156-4435-cee6-af6c875f8c11"
   },
   "outputs": [],
   "source": [
    "# On remplace les status \"?\" par \"-1\"\n",
    "datas.loc[datas.subcategory == '?', 'subcategory'] = \"-1\"\n",
    "\n",
    "# On garde uniquement le numéro de la categorie\n",
    "datas['subcategory'] = datas.apply(lambda row: int(row.subcategory.replace(\"Subcategory \",\"\")), axis=1)"
   ]
  },
  {
   "cell_type": "markdown",
   "metadata": {
    "colab_type": "text",
    "id": "ifLUejXMz74p"
   },
   "source": [
    "**Pour la colonne \"u_symptom\"**"
   ]
  },
  {
   "cell_type": "code",
   "execution_count": 22,
   "metadata": {
    "colab": {
     "base_uri": "https://localhost:8080/",
     "height": 111
    },
    "colab_type": "code",
    "id": "uXyaF_3Wx7Gf",
    "outputId": "0a880cbe-29cf-4cf4-9cb1-d3f69c0e1e74"
   },
   "outputs": [],
   "source": [
    "# On remplace les status \"?\" par \"-1\"\n",
    "datas.loc[datas.u_symptom == '?', 'u_symptom'] = \"-1\"\n",
    "\n",
    "# On garde uniquement le numéro de la categorie\n",
    "datas['u_symptom'] = datas.apply(lambda row: int(row.u_symptom.replace(\"Symptom \",\"\")), axis=1)"
   ]
  },
  {
   "cell_type": "markdown",
   "metadata": {
    "colab_type": "text",
    "id": "KyXitLaQV6V9"
   },
   "source": [
    "### Impact / Urgency / Priority"
   ]
  },
  {
   "cell_type": "code",
   "execution_count": 23,
   "metadata": {
    "colab": {},
    "colab_type": "code",
    "id": "XKyYUyQuah5s"
   },
   "outputs": [],
   "source": [
    "# Les données de ces trois colonnes seront converties en int\n",
    "# en suivant l'ordre d'importance prédéfini par le dataset d'origine"
   ]
  },
  {
   "cell_type": "markdown",
   "metadata": {
    "colab_type": "text",
    "id": "GfAurBxIdolt"
   },
   "source": [
    "**Pour la colonne impact :**"
   ]
  },
  {
   "cell_type": "code",
   "execution_count": 24,
   "metadata": {
    "colab": {
     "base_uri": "https://localhost:8080/",
     "height": 92
    },
    "colab_type": "code",
    "id": "RD7LKzWtWCxm",
    "outputId": "866dafc4-e666-4e0f-ac05-0115d24bb228"
   },
   "outputs": [
    {
     "data": {
      "text/plain": [
       "2 - Medium    134335\n",
       "3 - Low         3886\n",
       "1 - High        3491\n",
       "Name: impact, dtype: int64"
      ]
     },
     "execution_count": 24,
     "metadata": {},
     "output_type": "execute_result"
    }
   ],
   "source": [
    "datas['impact'].value_counts()"
   ]
  },
  {
   "cell_type": "code",
   "execution_count": 25,
   "metadata": {
    "colab": {},
    "colab_type": "code",
    "id": "2AQUJH9edKDi"
   },
   "outputs": [],
   "source": [
    "replace_map_impact = {'impact': {'1 - High': 1, '2 - Medium': 2, '3 - Low': 3}}\n",
    "datas.replace(replace_map_impact, inplace=True)"
   ]
  },
  {
   "cell_type": "markdown",
   "metadata": {
    "colab_type": "text",
    "id": "J2T7lsvvdxZI"
   },
   "source": [
    "**Pour la colonne urgency :**"
   ]
  },
  {
   "cell_type": "code",
   "execution_count": 26,
   "metadata": {
    "colab": {
     "base_uri": "https://localhost:8080/",
     "height": 92
    },
    "colab_type": "code",
    "id": "xATIncKiXuF5",
    "outputId": "3ef8344e-8322-45ee-dce2-5c158982e767"
   },
   "outputs": [
    {
     "data": {
      "text/plain": [
       "2 - Medium    134094\n",
       "1 - High        4020\n",
       "3 - Low         3598\n",
       "Name: urgency, dtype: int64"
      ]
     },
     "execution_count": 26,
     "metadata": {},
     "output_type": "execute_result"
    }
   ],
   "source": [
    "datas['urgency'].value_counts()"
   ]
  },
  {
   "cell_type": "code",
   "execution_count": 27,
   "metadata": {
    "colab": {},
    "colab_type": "code",
    "id": "Oh6P88I4eF4i"
   },
   "outputs": [],
   "source": [
    "replace_map_urgency = {'urgency': {'1 - High': 1, '2 - Medium': 2, '3 - Low': 3}}\n",
    "datas.replace(replace_map_urgency, inplace=True)"
   ]
  },
  {
   "cell_type": "markdown",
   "metadata": {
    "colab_type": "text",
    "id": "MHGVgGLidyXR"
   },
   "source": [
    "**Pour la colonne impact :**"
   ]
  },
  {
   "cell_type": "code",
   "execution_count": 28,
   "metadata": {
    "colab": {
     "base_uri": "https://localhost:8080/",
     "height": 111
    },
    "colab_type": "code",
    "id": "_fg_qEf_Xvkp",
    "outputId": "957be61b-d0e3-4044-b81b-78ef4c563ba6"
   },
   "outputs": [
    {
     "data": {
      "text/plain": [
       "3 - Moderate    132452\n",
       "4 - Low           4030\n",
       "2 - High          2972\n",
       "1 - Critical      2258\n",
       "Name: priority, dtype: int64"
      ]
     },
     "execution_count": 28,
     "metadata": {},
     "output_type": "execute_result"
    }
   ],
   "source": [
    "datas['priority'].value_counts()"
   ]
  },
  {
   "cell_type": "code",
   "execution_count": 29,
   "metadata": {
    "colab": {},
    "colab_type": "code",
    "id": "XKPfs6QbeGVN"
   },
   "outputs": [],
   "source": [
    "replace_map_priority = {'priority': {'1 - Critical': 1, '2 - High': 2, '3 - Moderate': 3, '4 - Low': 4}}\n",
    "datas.replace(replace_map_priority, inplace=True)"
   ]
  },
  {
   "cell_type": "markdown",
   "metadata": {
    "colab_type": "text",
    "id": "MUkwClWoXkwt"
   },
   "source": [
    "### Notify"
   ]
  },
  {
   "cell_type": "code",
   "execution_count": 30,
   "metadata": {
    "colab": {
     "base_uri": "https://localhost:8080/",
     "height": 73
    },
    "colab_type": "code",
    "id": "sKRbIKhEYDZK",
    "outputId": "2cd298f8-d9e2-43f2-f26e-b7ff56e5920e"
   },
   "outputs": [
    {
     "data": {
      "text/plain": [
       "Do Not Notify    141593\n",
       "Send Email          119\n",
       "Name: notify, dtype: int64"
      ]
     },
     "execution_count": 30,
     "metadata": {},
     "output_type": "execute_result"
    }
   ],
   "source": [
    "datas['notify'].value_counts()"
   ]
  },
  {
   "cell_type": "code",
   "execution_count": 31,
   "metadata": {
    "colab": {},
    "colab_type": "code",
    "id": "nXmn0vFrcD01"
   },
   "outputs": [],
   "source": [
    "# Ici, il n'y a que 2 catégories : \n",
    "# \"Do Not Notify\"   --->    0\n",
    "# \"Send Email\"      --->    1\n",
    "\n",
    "replace_map_notify = {'notify': {'Do Not Notify': 0, 'Send Email': 1}}\n",
    "datas.replace(replace_map_notify, inplace=True)"
   ]
  },
  {
   "cell_type": "markdown",
   "metadata": {
    "colab_type": "text",
    "id": "utG7XdRpej8-"
   },
   "source": [
    "## Résultat final"
   ]
  },
  {
   "cell_type": "code",
   "execution_count": 32,
   "metadata": {
    "colab": {
     "base_uri": "https://localhost:8080/",
     "height": 823
    },
    "colab_type": "code",
    "id": "wXc57wRTekOv",
    "outputId": "89afbd7b-e3a8-4936-d5e9-4875f72178a5"
   },
   "outputs": [
    {
     "name": "stdout",
     "output_type": "stream",
     "text": [
      "<class 'pandas.core.frame.DataFrame'>\n",
      "RangeIndex: 141712 entries, 0 to 141711\n",
      "Data columns (total 38 columns):\n",
      "reassignment_count          141712 non-null int64\n",
      "reopen_count                141712 non-null int64\n",
      "sys_mod_count               141712 non-null int64\n",
      "made_sla                    141712 non-null bool\n",
      "category                    141712 non-null int64\n",
      "subcategory                 141712 non-null int64\n",
      "u_symptom                   141712 non-null int64\n",
      "impact                      141712 non-null int64\n",
      "urgency                     141712 non-null int64\n",
      "priority                    141712 non-null int64\n",
      "knowledge                   141712 non-null bool\n",
      "u_priority_confirmation     141712 non-null bool\n",
      "notify                      141712 non-null int64\n",
      "remaining_time              141712 non-null float64\n",
      "state_Active                141712 non-null uint8\n",
      "state_Awaiting_Evidence     141712 non-null uint8\n",
      "state_Awaiting_Problem      141712 non-null uint8\n",
      "state_Awaiting_User_Info    141712 non-null uint8\n",
      "state_Awaiting_Vendor       141712 non-null uint8\n",
      "state_Closed                141712 non-null uint8\n",
      "state_New                   141712 non-null uint8\n",
      "state_Resolved              141712 non-null uint8\n",
      "state_Unknown               141712 non-null uint8\n",
      "update_month                141712 non-null int64\n",
      "update_day                  141712 non-null int64\n",
      "update_hour                 141712 non-null int64\n",
      "update_weekday_0            141712 non-null uint8\n",
      "update_weekday_1            141712 non-null uint8\n",
      "update_weekday_2            141712 non-null uint8\n",
      "update_weekday_3            141712 non-null uint8\n",
      "update_weekday_4            141712 non-null uint8\n",
      "update_weekday_5            141712 non-null uint8\n",
      "update_weekday_6            141712 non-null uint8\n",
      "contact_Direct opening      141712 non-null uint8\n",
      "contact_Email               141712 non-null uint8\n",
      "contact_IVR                 141712 non-null uint8\n",
      "contact_Phone               141712 non-null uint8\n",
      "contact_Self service        141712 non-null uint8\n",
      "dtypes: bool(3), float64(1), int64(13), uint8(21)\n",
      "memory usage: 18.4 MB\n"
     ]
    }
   ],
   "source": [
    "datas.info()"
   ]
  },
  {
   "cell_type": "code",
   "execution_count": 33,
   "metadata": {
    "colab": {
     "base_uri": "https://localhost:8080/",
     "height": 243
    },
    "colab_type": "code",
    "id": "9r2BIgQogZnK",
    "outputId": "7b74e759-b02c-4d4d-c0a4-29d68d631b63"
   },
   "outputs": [
    {
     "data": {
      "text/html": [
       "<div>\n",
       "<style scoped>\n",
       "    .dataframe tbody tr th:only-of-type {\n",
       "        vertical-align: middle;\n",
       "    }\n",
       "\n",
       "    .dataframe tbody tr th {\n",
       "        vertical-align: top;\n",
       "    }\n",
       "\n",
       "    .dataframe thead th {\n",
       "        text-align: right;\n",
       "    }\n",
       "</style>\n",
       "<table border=\"1\" class=\"dataframe\">\n",
       "  <thead>\n",
       "    <tr style=\"text-align: right;\">\n",
       "      <th></th>\n",
       "      <th>0</th>\n",
       "      <th>1</th>\n",
       "      <th>2</th>\n",
       "      <th>3</th>\n",
       "      <th>4</th>\n",
       "    </tr>\n",
       "  </thead>\n",
       "  <tbody>\n",
       "    <tr>\n",
       "      <th>reassignment_count</th>\n",
       "      <td>0</td>\n",
       "      <td>0</td>\n",
       "      <td>0</td>\n",
       "      <td>0</td>\n",
       "      <td>0</td>\n",
       "    </tr>\n",
       "    <tr>\n",
       "      <th>reopen_count</th>\n",
       "      <td>0</td>\n",
       "      <td>0</td>\n",
       "      <td>0</td>\n",
       "      <td>0</td>\n",
       "      <td>0</td>\n",
       "    </tr>\n",
       "    <tr>\n",
       "      <th>sys_mod_count</th>\n",
       "      <td>0</td>\n",
       "      <td>2</td>\n",
       "      <td>3</td>\n",
       "      <td>4</td>\n",
       "      <td>0</td>\n",
       "    </tr>\n",
       "    <tr>\n",
       "      <th>made_sla</th>\n",
       "      <td>True</td>\n",
       "      <td>True</td>\n",
       "      <td>True</td>\n",
       "      <td>True</td>\n",
       "      <td>True</td>\n",
       "    </tr>\n",
       "    <tr>\n",
       "      <th>category</th>\n",
       "      <td>55</td>\n",
       "      <td>55</td>\n",
       "      <td>55</td>\n",
       "      <td>55</td>\n",
       "      <td>40</td>\n",
       "    </tr>\n",
       "    <tr>\n",
       "      <th>subcategory</th>\n",
       "      <td>170</td>\n",
       "      <td>170</td>\n",
       "      <td>170</td>\n",
       "      <td>170</td>\n",
       "      <td>215</td>\n",
       "    </tr>\n",
       "    <tr>\n",
       "      <th>u_symptom</th>\n",
       "      <td>72</td>\n",
       "      <td>72</td>\n",
       "      <td>72</td>\n",
       "      <td>72</td>\n",
       "      <td>471</td>\n",
       "    </tr>\n",
       "    <tr>\n",
       "      <th>impact</th>\n",
       "      <td>2</td>\n",
       "      <td>2</td>\n",
       "      <td>2</td>\n",
       "      <td>2</td>\n",
       "      <td>2</td>\n",
       "    </tr>\n",
       "    <tr>\n",
       "      <th>urgency</th>\n",
       "      <td>2</td>\n",
       "      <td>2</td>\n",
       "      <td>2</td>\n",
       "      <td>2</td>\n",
       "      <td>2</td>\n",
       "    </tr>\n",
       "    <tr>\n",
       "      <th>priority</th>\n",
       "      <td>3</td>\n",
       "      <td>3</td>\n",
       "      <td>3</td>\n",
       "      <td>3</td>\n",
       "      <td>3</td>\n",
       "    </tr>\n",
       "    <tr>\n",
       "      <th>knowledge</th>\n",
       "      <td>True</td>\n",
       "      <td>True</td>\n",
       "      <td>True</td>\n",
       "      <td>True</td>\n",
       "      <td>True</td>\n",
       "    </tr>\n",
       "    <tr>\n",
       "      <th>u_priority_confirmation</th>\n",
       "      <td>False</td>\n",
       "      <td>False</td>\n",
       "      <td>False</td>\n",
       "      <td>False</td>\n",
       "      <td>False</td>\n",
       "    </tr>\n",
       "    <tr>\n",
       "      <th>notify</th>\n",
       "      <td>0</td>\n",
       "      <td>0</td>\n",
       "      <td>0</td>\n",
       "      <td>0</td>\n",
       "      <td>0</td>\n",
       "    </tr>\n",
       "    <tr>\n",
       "      <th>remaining_time</th>\n",
       "      <td>130.617</td>\n",
       "      <td>123.117</td>\n",
       "      <td>120.517</td>\n",
       "      <td>0</td>\n",
       "      <td>149.05</td>\n",
       "    </tr>\n",
       "    <tr>\n",
       "      <th>state_Active</th>\n",
       "      <td>0</td>\n",
       "      <td>0</td>\n",
       "      <td>0</td>\n",
       "      <td>0</td>\n",
       "      <td>0</td>\n",
       "    </tr>\n",
       "    <tr>\n",
       "      <th>state_Awaiting_Evidence</th>\n",
       "      <td>0</td>\n",
       "      <td>0</td>\n",
       "      <td>0</td>\n",
       "      <td>0</td>\n",
       "      <td>0</td>\n",
       "    </tr>\n",
       "    <tr>\n",
       "      <th>state_Awaiting_Problem</th>\n",
       "      <td>0</td>\n",
       "      <td>0</td>\n",
       "      <td>0</td>\n",
       "      <td>0</td>\n",
       "      <td>0</td>\n",
       "    </tr>\n",
       "    <tr>\n",
       "      <th>state_Awaiting_User_Info</th>\n",
       "      <td>0</td>\n",
       "      <td>0</td>\n",
       "      <td>0</td>\n",
       "      <td>0</td>\n",
       "      <td>0</td>\n",
       "    </tr>\n",
       "    <tr>\n",
       "      <th>state_Awaiting_Vendor</th>\n",
       "      <td>0</td>\n",
       "      <td>0</td>\n",
       "      <td>0</td>\n",
       "      <td>0</td>\n",
       "      <td>0</td>\n",
       "    </tr>\n",
       "    <tr>\n",
       "      <th>state_Closed</th>\n",
       "      <td>0</td>\n",
       "      <td>0</td>\n",
       "      <td>0</td>\n",
       "      <td>1</td>\n",
       "      <td>0</td>\n",
       "    </tr>\n",
       "    <tr>\n",
       "      <th>state_New</th>\n",
       "      <td>1</td>\n",
       "      <td>0</td>\n",
       "      <td>0</td>\n",
       "      <td>0</td>\n",
       "      <td>1</td>\n",
       "    </tr>\n",
       "    <tr>\n",
       "      <th>state_Resolved</th>\n",
       "      <td>0</td>\n",
       "      <td>1</td>\n",
       "      <td>1</td>\n",
       "      <td>0</td>\n",
       "      <td>0</td>\n",
       "    </tr>\n",
       "    <tr>\n",
       "      <th>state_Unknown</th>\n",
       "      <td>0</td>\n",
       "      <td>0</td>\n",
       "      <td>0</td>\n",
       "      <td>0</td>\n",
       "      <td>0</td>\n",
       "    </tr>\n",
       "    <tr>\n",
       "      <th>update_month</th>\n",
       "      <td>2</td>\n",
       "      <td>2</td>\n",
       "      <td>2</td>\n",
       "      <td>5</td>\n",
       "      <td>2</td>\n",
       "    </tr>\n",
       "    <tr>\n",
       "      <th>update_day</th>\n",
       "      <td>29</td>\n",
       "      <td>29</td>\n",
       "      <td>29</td>\n",
       "      <td>3</td>\n",
       "      <td>29</td>\n",
       "    </tr>\n",
       "    <tr>\n",
       "      <th>update_hour</th>\n",
       "      <td>1</td>\n",
       "      <td>8</td>\n",
       "      <td>11</td>\n",
       "      <td>12</td>\n",
       "      <td>4</td>\n",
       "    </tr>\n",
       "    <tr>\n",
       "      <th>update_weekday_0</th>\n",
       "      <td>1</td>\n",
       "      <td>1</td>\n",
       "      <td>1</td>\n",
       "      <td>0</td>\n",
       "      <td>1</td>\n",
       "    </tr>\n",
       "    <tr>\n",
       "      <th>update_weekday_1</th>\n",
       "      <td>0</td>\n",
       "      <td>0</td>\n",
       "      <td>0</td>\n",
       "      <td>1</td>\n",
       "      <td>0</td>\n",
       "    </tr>\n",
       "    <tr>\n",
       "      <th>update_weekday_2</th>\n",
       "      <td>0</td>\n",
       "      <td>0</td>\n",
       "      <td>0</td>\n",
       "      <td>0</td>\n",
       "      <td>0</td>\n",
       "    </tr>\n",
       "    <tr>\n",
       "      <th>update_weekday_3</th>\n",
       "      <td>0</td>\n",
       "      <td>0</td>\n",
       "      <td>0</td>\n",
       "      <td>0</td>\n",
       "      <td>0</td>\n",
       "    </tr>\n",
       "    <tr>\n",
       "      <th>update_weekday_4</th>\n",
       "      <td>0</td>\n",
       "      <td>0</td>\n",
       "      <td>0</td>\n",
       "      <td>0</td>\n",
       "      <td>0</td>\n",
       "    </tr>\n",
       "    <tr>\n",
       "      <th>update_weekday_5</th>\n",
       "      <td>0</td>\n",
       "      <td>0</td>\n",
       "      <td>0</td>\n",
       "      <td>0</td>\n",
       "      <td>0</td>\n",
       "    </tr>\n",
       "    <tr>\n",
       "      <th>update_weekday_6</th>\n",
       "      <td>0</td>\n",
       "      <td>0</td>\n",
       "      <td>0</td>\n",
       "      <td>0</td>\n",
       "      <td>0</td>\n",
       "    </tr>\n",
       "    <tr>\n",
       "      <th>contact_Direct opening</th>\n",
       "      <td>0</td>\n",
       "      <td>0</td>\n",
       "      <td>0</td>\n",
       "      <td>0</td>\n",
       "      <td>0</td>\n",
       "    </tr>\n",
       "    <tr>\n",
       "      <th>contact_Email</th>\n",
       "      <td>0</td>\n",
       "      <td>0</td>\n",
       "      <td>0</td>\n",
       "      <td>0</td>\n",
       "      <td>0</td>\n",
       "    </tr>\n",
       "    <tr>\n",
       "      <th>contact_IVR</th>\n",
       "      <td>0</td>\n",
       "      <td>0</td>\n",
       "      <td>0</td>\n",
       "      <td>0</td>\n",
       "      <td>0</td>\n",
       "    </tr>\n",
       "    <tr>\n",
       "      <th>contact_Phone</th>\n",
       "      <td>1</td>\n",
       "      <td>1</td>\n",
       "      <td>1</td>\n",
       "      <td>1</td>\n",
       "      <td>1</td>\n",
       "    </tr>\n",
       "    <tr>\n",
       "      <th>contact_Self service</th>\n",
       "      <td>0</td>\n",
       "      <td>0</td>\n",
       "      <td>0</td>\n",
       "      <td>0</td>\n",
       "      <td>0</td>\n",
       "    </tr>\n",
       "  </tbody>\n",
       "</table>\n",
       "</div>"
      ],
      "text/plain": [
       "                                0        1        2      3       4\n",
       "reassignment_count              0        0        0      0       0\n",
       "reopen_count                    0        0        0      0       0\n",
       "sys_mod_count                   0        2        3      4       0\n",
       "made_sla                     True     True     True   True    True\n",
       "category                       55       55       55     55      40\n",
       "subcategory                   170      170      170    170     215\n",
       "u_symptom                      72       72       72     72     471\n",
       "impact                          2        2        2      2       2\n",
       "urgency                         2        2        2      2       2\n",
       "priority                        3        3        3      3       3\n",
       "knowledge                    True     True     True   True    True\n",
       "u_priority_confirmation     False    False    False  False   False\n",
       "notify                          0        0        0      0       0\n",
       "remaining_time            130.617  123.117  120.517      0  149.05\n",
       "state_Active                    0        0        0      0       0\n",
       "state_Awaiting_Evidence         0        0        0      0       0\n",
       "state_Awaiting_Problem          0        0        0      0       0\n",
       "state_Awaiting_User_Info        0        0        0      0       0\n",
       "state_Awaiting_Vendor           0        0        0      0       0\n",
       "state_Closed                    0        0        0      1       0\n",
       "state_New                       1        0        0      0       1\n",
       "state_Resolved                  0        1        1      0       0\n",
       "state_Unknown                   0        0        0      0       0\n",
       "update_month                    2        2        2      5       2\n",
       "update_day                     29       29       29      3      29\n",
       "update_hour                     1        8       11     12       4\n",
       "update_weekday_0                1        1        1      0       1\n",
       "update_weekday_1                0        0        0      1       0\n",
       "update_weekday_2                0        0        0      0       0\n",
       "update_weekday_3                0        0        0      0       0\n",
       "update_weekday_4                0        0        0      0       0\n",
       "update_weekday_5                0        0        0      0       0\n",
       "update_weekday_6                0        0        0      0       0\n",
       "contact_Direct opening          0        0        0      0       0\n",
       "contact_Email                   0        0        0      0       0\n",
       "contact_IVR                     0        0        0      0       0\n",
       "contact_Phone                   1        1        1      1       1\n",
       "contact_Self service            0        0        0      0       0"
      ]
     },
     "execution_count": 33,
     "metadata": {},
     "output_type": "execute_result"
    }
   ],
   "source": [
    "datas.head().T"
   ]
  },
  {
   "cell_type": "markdown",
   "metadata": {
    "colab_type": "text",
    "id": "Xj9Wc6LW2fwz"
   },
   "source": [
    "# Modélisation"
   ]
  },
  {
   "cell_type": "markdown",
   "metadata": {
    "colab_type": "text",
    "id": "65unyz1S3qga"
   },
   "source": [
    "## X et y"
   ]
  },
  {
   "cell_type": "code",
   "execution_count": 34,
   "metadata": {
    "colab": {},
    "colab_type": "code",
    "id": "AJxhkX3c3s3S"
   },
   "outputs": [],
   "source": [
    "X_all = datas.drop(['remaining_time'], axis=1)\n",
    "y_all = datas['remaining_time']"
   ]
  },
  {
   "cell_type": "markdown",
   "metadata": {
    "colab_type": "text",
    "id": "a5CzU-7T3sVy"
   },
   "source": [
    "## Training set et Testing set"
   ]
  },
  {
   "cell_type": "code",
   "execution_count": 35,
   "metadata": {
    "colab": {},
    "colab_type": "code",
    "id": "2_GN661U3yja"
   },
   "outputs": [],
   "source": [
    "from sklearn.model_selection import train_test_split\n",
    "\n",
    "num_test = 0.25\n",
    "X_train, X_test, y_train, y_test = train_test_split(X_all, y_all, test_size=num_test, random_state=23)"
   ]
  },
  {
   "cell_type": "markdown",
   "metadata": {
    "colab_type": "text",
    "id": "tm0-wLQ07Zq0"
   },
   "source": [
    "# Ajustement et réglage d'algorithmes"
   ]
  },
  {
   "cell_type": "markdown",
   "metadata": {
    "colab_type": "text",
    "id": "U0PWZOoo7eHW"
   },
   "source": [
    "## RandomForest"
   ]
  },
  {
   "cell_type": "code",
   "execution_count": 36,
   "metadata": {
    "colab": {},
    "colab_type": "code",
    "id": "8fp2vSzJT_mx"
   },
   "outputs": [],
   "source": [
    "from sklearn.ensemble import RandomForestRegressor"
   ]
  },
  {
   "cell_type": "code",
   "execution_count": 38,
   "metadata": {
    "colab": {
     "base_uri": "https://localhost:8080/",
     "height": 36
    },
    "colab_type": "code",
    "id": "85-s-DQpfUzT",
    "outputId": "676f1ed8-da25-4198-9131-1c45344c4928",
    "scrolled": true
   },
   "outputs": [
    {
     "data": {
      "text/plain": [
       "0.45063362585245226"
      ]
     },
     "execution_count": 38,
     "metadata": {},
     "output_type": "execute_result"
    }
   ],
   "source": [
    "algo = RandomForestRegressor(n_estimators=50)\n",
    "model = algo.fit(X_train, y_train)\n",
    "score = model.score(X_test,y_test)\n",
    "score"
   ]
  },
  {
   "cell_type": "code",
   "execution_count": 39,
   "metadata": {
    "colab": {},
    "colab_type": "code",
    "id": "DypailIPkyl3"
   },
   "outputs": [],
   "source": [
    "import pickle\n",
    "\n",
    "# Sauvegarde du model dans le répertoire de l'API pour la prédiction\n",
    "filename = 'incidentapi/predicteur_app/rf_model.sav'\n",
    "pickle.dump(model, open(filename, 'wb'))"
   ]
  },
  {
   "cell_type": "code",
   "execution_count": 40,
   "metadata": {
    "colab": {
     "base_uri": "https://localhost:8080/",
     "height": 36
    },
    "colab_type": "code",
    "id": "lVcSyzgylOi3",
    "outputId": "98486abe-8107-4016-b09e-0d73f09b151b"
   },
   "outputs": [
    {
     "name": "stdout",
     "output_type": "stream",
     "text": [
      "0.4526300509118817\n"
     ]
    }
   ],
   "source": [
    "# Test\n",
    "filename = 'rf_model.sav'\n",
    "loaded_model = pickle.load(open(filename, 'rb'))\n",
    "result = loaded_model.score(X_test, y_test)\n",
    "print(result)"
   ]
  },
  {
   "cell_type": "code",
   "execution_count": null,
   "metadata": {},
   "outputs": [],
   "source": []
  }
 ],
 "metadata": {
  "accelerator": "GPU",
  "colab": {
   "name": "Projet Python.ipynb",
   "provenance": [],
   "toc_visible": true
  },
  "kernelspec": {
   "display_name": "Python 3",
   "language": "python",
   "name": "python3"
  },
  "language_info": {
   "codemirror_mode": {
    "name": "ipython",
    "version": 3
   },
   "file_extension": ".py",
   "mimetype": "text/x-python",
   "name": "python",
   "nbconvert_exporter": "python",
   "pygments_lexer": "ipython3",
   "version": "3.7.3"
  }
 },
 "nbformat": 4,
 "nbformat_minor": 1
}
